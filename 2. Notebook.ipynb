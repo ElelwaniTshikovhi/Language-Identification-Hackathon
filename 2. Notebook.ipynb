{
 "cells": [
  {
   "cell_type": "markdown",
   "id": "2b66300a",
   "metadata": {},
   "source": [
    "# EDSA 2201 & 2207 classification hackathon \n",
    "\n",
    "\n",
    "© Explore Data Science Academy\n",
    "\n",
    "---\n",
    "### Honour Code\n",
    "\n",
    "I {**Elelwani Tshikovhi**}, confirm - by submitting this document - that the solutions in this notebook are a result of my own work and that I abide by the [EDSA honour code](https://drive.google.com/file/d/1QDCjGZJ8-FmJE3bZdIQNwnJyQKPhHZBn/view?usp=sharing).\n",
    "\n",
    "Non-compliance with the honour code constitutes a material breach of contract.\n",
    "\n",
    "### Hackathon Overview: South African Language Identification Hack 2022\n",
    "\n",
    "South Africa is a multicultural society that is characterised by its rich linguistic diversity. Language is an indispensable tool that can be used to deepen democracy and also contribute to the social, cultural, intellectual, economic and political life of the South African society.\n",
    "\n",
    "The country is multilingual with 11 official languages, each of which is guaranteed equal status. Most South Africans are multilingual and able to speak at least two or more of the official languages.\n",
    "From South African Government\n",
    "\n",
    "<img src=\"https://www.googleapis.com/download/storage/v1/b/kaggle-user-content/o/inbox%2F2205222%2F7f34544c1b1f61d1a5949bddacfd84a9%2FSouth_Africa_languages_2011.jpg?generation=1604393669339034&alt=media\" width=80%/>\n",
    "\n",
    "With such a multilingual population, it is only obvious that our systems and devices also communicate in multi-languages.\n",
    "\n",
    "In this challenge, you will take text which is in any of South Africa's 11 Official languages and identify which language the text is in. This is an example of NLP's Language Identification, the task of determining the natural language that a piece of text is written in.\n",
    "\n",
    "### Problem Statement\n",
    "\n",
    "you will take text which is in any of South Africa's 11 Official languages and identify which language the text is in. This is an example of NLP's Language Identification, the task of determining the natural language that a piece of text is written in using various classification models.\n",
    "\n",
    "### Data overview\n",
    "The dataset used for this challenge is the NCHLT Text Corpora collected by the South African Department of Arts and Culture & Centre for Text Technology (CTexT, North-West University, South Africa). The training set was improved through additional cleaning done by Praekelt.\n",
    "\n",
    "The data is in the form Language ID, Text. The text is in various states of cleanliness. Some NLP techniques will be necessary to clean up the data.\n",
    "File descriptions\n",
    "\n",
    "- train_set.csv - the training set\n",
    "- test_set.csv - the test set\n",
    "- sample_submission.csv - a sample submission file in the correct format\n",
    "\n",
    "Language IDs\n",
    "\n",
    "- afr - Afrikaans\n",
    "- eng - English\n",
    "- nbl - isiNdebele\n",
    "- nso - Sepedi\n",
    "- sot - Sesotho\n",
    "- ssw - siSwati\n",
    "- tsn - Setswana\n",
    "- tso - Xitsonga\n",
    "- ven - Tshivenda\n",
    "- xho - isiXhosa\n",
    "- zul - isiZulu"
   ]
  },
  {
   "cell_type": "markdown",
   "id": "9c5cf23a",
   "metadata": {},
   "source": [
    "<a id=\"cont\"></a>\n",
    "\n",
    "## Table of Contents\n",
    "\n",
    "<a href=#one>1. Importing Packages</a>\n",
    "\n",
    "<a href=#two>2. Loading Data</a>\n",
    "\n",
    "<a href=#three>3. Data Engineering</a>\n",
    "\n",
    "<a href=#four>4. Exploratory Data Analysis (EDA)</a>\n",
    "\n",
    "<a href=#five>5. Modeling</a>\n",
    "\n",
    "<a href=#six>6. Model Performance</a>\n",
    "\n",
    "<a href=#seven>7. Model Explanations</a>"
   ]
  },
  {
   "cell_type": "markdown",
   "id": "d191028a",
   "metadata": {},
   "source": [
    "<a id=\"one\"></a>\n",
    "## 1. Importing Packages\n",
    "<a href=#cont>Back to Table of Contents</a>\n",
    "\n",
    "---\n",
    "    \n",
    "| ⚡ Description: Importing Packages ⚡ |\n",
    "| :--------------------------- |\n",
    "|  |\n",
    "\n",
    "---"
   ]
  },
  {
   "cell_type": "code",
   "execution_count": 34,
   "id": "9fdc01e5",
   "metadata": {},
   "outputs": [
    {
     "name": "stdout",
     "output_type": "stream",
     "text": [
      "Requirement already satisfied: advertools in c:\\users\\f5468981\\anaconda3\\lib\\site-packages (0.13.1)Note: you may need to restart the kernel to use updated packages.\n",
      "Requirement already satisfied: pyasn1 in c:\\users\\f5468981\\anaconda3\\lib\\site-packages (from advertools) (0.4.8)\n",
      "Requirement already satisfied: pyarrow in c:\\users\\f5468981\\anaconda3\\lib\\site-packages (from advertools) (7.0.0)\n",
      "Requirement already satisfied: pandas in c:\\users\\f5468981\\anaconda3\\lib\\site-packages (from advertools) (1.4.2)\n",
      "Requirement already satisfied: twython in c:\\users\\f5468981\\anaconda3\\lib\\site-packages (from advertools) (3.9.1)\n",
      "Requirement already satisfied: scrapy in c:\\users\\f5468981\\anaconda3\\lib\\site-packages (from advertools) (2.6.1)\n",
      "Requirement already satisfied: python-dateutil>=2.8.1 in c:\\users\\f5468981\\anaconda3\\lib\\site-packages (from pandas->advertools) (2.8.2)\n",
      "Requirement already satisfied: numpy>=1.18.5 in c:\\users\\f5468981\\anaconda3\\lib\\site-packages (from pandas->advertools) (1.22.4)\n",
      "Requirement already satisfied: pytz>=2020.1 in c:\\users\\f5468981\\anaconda3\\lib\\site-packages (from pandas->advertools) (2021.3)\n",
      "Requirement already satisfied: six>=1.5 in c:\\users\\f5468981\\anaconda3\\lib\\site-packages (from python-dateutil>=2.8.1->pandas->advertools) (1.16.0)\n",
      "Requirement already satisfied: itemloaders>=1.0.1 in c:\\users\\f5468981\\anaconda3\\lib\\site-packages (from scrapy->advertools) (1.0.4)\n",
      "Requirement already satisfied: cryptography>=2.0 in c:\\users\\f5468981\\anaconda3\\lib\\site-packages (from scrapy->advertools) (3.4.8)\n",
      "Requirement already satisfied: itemadapter>=0.1.0 in c:\\users\\f5468981\\anaconda3\\lib\\site-packages (from scrapy->advertools) (0.6.0)\n",
      "Requirement already satisfied: tldextract in c:\\users\\f5468981\\anaconda3\\lib\\site-packages (from scrapy->advertools) (3.3.0)\n",
      "Requirement already satisfied: protego>=0.1.15 in c:\\users\\f5468981\\anaconda3\\lib\\site-packages (from scrapy->advertools) (0.2.1)\n",
      "Requirement already satisfied: queuelib>=1.4.2 in c:\\users\\f5468981\\anaconda3\\lib\\site-packages (from scrapy->advertools) (1.6.2)\n",
      "Requirement already satisfied: service-identity>=16.0.0 in c:\\users\\f5468981\\anaconda3\\lib\\site-packages (from scrapy->advertools) (21.1.0)\n",
      "Requirement already satisfied: zope.interface>=4.1.3 in c:\\users\\f5468981\\anaconda3\\lib\\site-packages (from scrapy->advertools) (5.4.0)\n",
      "Requirement already satisfied: lxml>=3.5.0 in c:\\users\\f5468981\\anaconda3\\lib\\site-packages (from scrapy->advertools) (4.6.3)\n",
      "Requirement already satisfied: parsel>=1.5.0 in c:\\users\\f5468981\\anaconda3\\lib\\site-packages (from scrapy->advertools) (1.6.0)\n",
      "Requirement already satisfied: Twisted>=17.9.0 in c:\\users\\f5468981\\anaconda3\\lib\\site-packages (from scrapy->advertools) (22.4.0)\n",
      "Requirement already satisfied: w3lib>=1.17.0 in c:\\users\\f5468981\\anaconda3\\lib\\site-packages (from scrapy->advertools) (1.22.0)\n",
      "Requirement already satisfied: cssselect>=0.9.1 in c:\\users\\f5468981\\anaconda3\\lib\\site-packages (from scrapy->advertools) (1.1.0)\n",
      "Requirement already satisfied: pyOpenSSL>=16.2.0 in c:\\users\\f5468981\\anaconda3\\lib\\site-packages (from scrapy->advertools) (21.0.0)\n",
      "Requirement already satisfied: setuptools in c:\\users\\f5468981\\anaconda3\\lib\\site-packages (from scrapy->advertools) (58.0.4)\n",
      "Requirement already satisfied: PyDispatcher>=2.0.5 in c:\\users\\f5468981\\anaconda3\\lib\\site-packages (from scrapy->advertools) (2.0.5)\n",
      "Requirement already satisfied: cffi>=1.12 in c:\\users\\f5468981\\anaconda3\\lib\\site-packages (from cryptography>=2.0->scrapy->advertools) (1.14.6)\n",
      "Requirement already satisfied: pycparser in c:\\users\\f5468981\\anaconda3\\lib\\site-packages (from cffi>=1.12->cryptography>=2.0->scrapy->advertools) (2.20)\n",
      "Requirement already satisfied: jmespath>=0.9.5 in c:\\users\\f5468981\\anaconda3\\lib\\site-packages (from itemloaders>=1.0.1->scrapy->advertools) (1.0.1)\n",
      "Requirement already satisfied: attrs>=19.1.0 in c:\\users\\f5468981\\anaconda3\\lib\\site-packages (from service-identity>=16.0.0->scrapy->advertools) (21.2.0)\n",
      "Requirement already satisfied: pyasn1-modules in c:\\users\\f5468981\\anaconda3\\lib\\site-packages (from service-identity>=16.0.0->scrapy->advertools) (0.2.8)\n",
      "Requirement already satisfied: typing-extensions>=3.6.5 in c:\\users\\f5468981\\anaconda3\\lib\\site-packages (from Twisted>=17.9.0->scrapy->advertools) (3.10.0.2)\n",
      "Requirement already satisfied: constantly>=15.1 in c:\\users\\f5468981\\anaconda3\\lib\\site-packages (from Twisted>=17.9.0->scrapy->advertools) (15.1.0)\n",
      "Requirement already satisfied: Automat>=0.8.0 in c:\\users\\f5468981\\anaconda3\\lib\\site-packages (from Twisted>=17.9.0->scrapy->advertools) (20.2.0)\n",
      "Requirement already satisfied: incremental>=21.3.0 in c:\\users\\f5468981\\anaconda3\\lib\\site-packages (from Twisted>=17.9.0->scrapy->advertools) (21.3.0)\n",
      "Requirement already satisfied: twisted-iocpsupport<2,>=1.0.2 in c:\\users\\f5468981\\anaconda3\\lib\\site-packages (from Twisted>=17.9.0->scrapy->advertools) (1.0.2)\n",
      "Requirement already satisfied: hyperlink>=17.1.1 in c:\\users\\f5468981\\anaconda3\\lib\\site-packages (from Twisted>=17.9.0->scrapy->advertools) (21.0.0)\n",
      "Requirement already satisfied: idna>=2.5 in c:\\users\\f5468981\\anaconda3\\lib\\site-packages (from hyperlink>=17.1.1->Twisted>=17.9.0->scrapy->advertools) (3.2)\n",
      "Requirement already satisfied: requests>=2.1.0 in c:\\users\\f5468981\\anaconda3\\lib\\site-packages (from tldextract->scrapy->advertools) (2.26.0)\n",
      "Requirement already satisfied: requests-file>=1.4 in c:\\users\\f5468981\\anaconda3\\lib\\site-packages (from tldextract->scrapy->advertools) (1.5.1)\n",
      "Requirement already satisfied: filelock>=3.0.8 in c:\\users\\f5468981\\anaconda3\\lib\\site-packages (from tldextract->scrapy->advertools) (3.3.1)\n",
      "Requirement already satisfied: certifi>=2017.4.17 in c:\\users\\f5468981\\anaconda3\\lib\\site-packages (from requests>=2.1.0->tldextract->scrapy->advertools) (2021.10.8)\n",
      "Requirement already satisfied: urllib3<1.27,>=1.21.1 in c:\\users\\f5468981\\anaconda3\\lib\\site-packages (from requests>=2.1.0->tldextract->scrapy->advertools) (1.26.7)\n",
      "Requirement already satisfied: charset-normalizer~=2.0.0 in c:\\users\\f5468981\\anaconda3\\lib\\site-packages (from requests>=2.1.0->tldextract->scrapy->advertools) (2.0.4)\n",
      "Requirement already satisfied: requests-oauthlib>=0.4.0 in c:\\users\\f5468981\\anaconda3\\lib\\site-packages (from twython->advertools) (1.3.1)\n",
      "Requirement already satisfied: oauthlib>=3.0.0 in c:\\users\\f5468981\\anaconda3\\lib\\site-packages (from requests-oauthlib>=0.4.0->twython->advertools) (3.2.0)\n",
      "\n"
     ]
    }
   ],
   "source": [
    "%pip install advertools"
   ]
  },
  {
   "cell_type": "code",
   "execution_count": 35,
   "id": "0b0782eb",
   "metadata": {},
   "outputs": [
    {
     "name": "stderr",
     "output_type": "stream",
     "text": [
      "[nltk_data] Downloading package punkt to\n",
      "[nltk_data]     C:\\Users\\f5468981\\AppData\\Roaming\\nltk_data...\n",
      "[nltk_data]   Package punkt is already up-to-date!\n",
      "[nltk_data] Downloading package stopwords to\n",
      "[nltk_data]     C:\\Users\\f5468981\\AppData\\Roaming\\nltk_data...\n",
      "[nltk_data]   Package stopwords is already up-to-date!\n"
     ]
    }
   ],
   "source": [
    "# Data analysis and wrangling libraries\n",
    "import pandas as pd\n",
    "import numpy as np\n",
    "# Visualisations\n",
    "import seaborn as sns\n",
    "import matplotlib.pyplot as plt\n",
    "# Preprocessing\n",
    "import string\n",
    "import re\n",
    "import nltk\n",
    "from nltk.corpus import stopwords\n",
    "import time\n",
    "import collections\n",
    "from collections import Counter\n",
    "\n",
    "# Modelling\n",
    "from sklearn.feature_extraction.text import TfidfVectorizer\n",
    "from sklearn.linear_model import LogisticRegression\n",
    "from sklearn.naive_bayes import MultinomialNB\n",
    "from sklearn.naive_bayes import ComplementNB\n",
    "from sklearn.ensemble import GradientBoostingClassifier\n",
    "from sklearn.svm import LinearSVC\n",
    "from sklearn.svm import SVC\n",
    "from sklearn.tree import DecisionTreeClassifier\n",
    "import xgboost as xgb\n",
    "import lightgbm as lgb\n",
    "from lightgbm import LGBMClassifier\n",
    "from sklearn.ensemble import RandomForestClassifier, AdaBoostClassifier\n",
    "from sklearn.linear_model import SGDClassifier\n",
    "from sklearn.model_selection import train_test_split\n",
    "from nltk.stem import WordNetLemmatizer\n",
    "from nltk.corpus import stopwords, wordnet\n",
    "from nltk.stem import WordNetLemmatizer\n",
    "from sklearn import metrics\n",
    "from sklearn.metrics import f1_score\n",
    "from collections import Counter\n",
    "from sklearn.feature_extraction.text import CountVectorizer\n",
    "from sklearn.neighbors import KNeighborsClassifier\n",
    "import advertools as adv\n",
    "\n",
    "# Metrics for Model Evaluation\n",
    "from sklearn.metrics import roc_curve, auc\n",
    "from sklearn.preprocessing import label_binarize\n",
    "from sklearn.model_selection import GridSearchCV, KFold, cross_val_score\n",
    "from sklearn.multiclass import OneVsRestClassifier, OneVsOneClassifier\n",
    "from sklearn.metrics import accuracy_score, confusion_matrix\n",
    "from sklearn.metrics import f1_score, precision_score, recall_score\n",
    "from sklearn.metrics import classification_report\n",
    "from sklearn.metrics import make_scorer\n",
    "from sklearn.metrics import  log_loss\n",
    "import time\n",
    "# Warnings\n",
    "import warnings\n",
    "warnings.filterwarnings(\"ignore\", category=DeprecationWarning)\n",
    "# Libraries to Save/Restore Models\n",
    "import pickle\n",
    "# Downloads\n",
    "nltk.download(['punkt','stopwords'])\n",
    "%matplotlib inline\n",
    "STOPWORDS = set(stopwords.words('english'))"
   ]
  },
  {
   "cell_type": "code",
   "execution_count": 36,
   "id": "9c82d79c",
   "metadata": {},
   "outputs": [
    {
     "name": "stdout",
     "output_type": "stream",
     "text": [
      "Requirement already satisfied: catboost in c:\\users\\f5468981\\anaconda3\\lib\\site-packages (1.0.6)\n",
      "Requirement already satisfied: six in c:\\users\\f5468981\\anaconda3\\lib\\site-packages (from catboost) (1.16.0)\n",
      "Requirement already satisfied: scipy in c:\\users\\f5468981\\anaconda3\\lib\\site-packages (from catboost) (1.7.1)Note: you may need to restart the kernel to use updated packages.\n",
      "\n",
      "Requirement already satisfied: matplotlib in c:\\users\\f5468981\\anaconda3\\lib\\site-packages (from catboost) (3.4.3)\n",
      "Requirement already satisfied: plotly in c:\\users\\f5468981\\anaconda3\\lib\\site-packages (from catboost) (5.6.0)\n",
      "Requirement already satisfied: pandas>=0.24.0 in c:\\users\\f5468981\\anaconda3\\lib\\site-packages (from catboost) (1.4.2)\n",
      "Requirement already satisfied: numpy>=1.16.0 in c:\\users\\f5468981\\anaconda3\\lib\\site-packages (from catboost) (1.22.4)\n",
      "Requirement already satisfied: graphviz in c:\\users\\f5468981\\anaconda3\\lib\\site-packages (from catboost) (0.20)\n",
      "Requirement already satisfied: python-dateutil>=2.8.1 in c:\\users\\f5468981\\anaconda3\\lib\\site-packages (from pandas>=0.24.0->catboost) (2.8.2)\n",
      "Requirement already satisfied: pytz>=2020.1 in c:\\users\\f5468981\\anaconda3\\lib\\site-packages (from pandas>=0.24.0->catboost) (2021.3)\n",
      "Requirement already satisfied: kiwisolver>=1.0.1 in c:\\users\\f5468981\\anaconda3\\lib\\site-packages (from matplotlib->catboost) (1.3.1)\n",
      "Requirement already satisfied: cycler>=0.10 in c:\\users\\f5468981\\anaconda3\\lib\\site-packages (from matplotlib->catboost) (0.10.0)\n",
      "Requirement already satisfied: pyparsing>=2.2.1 in c:\\users\\f5468981\\anaconda3\\lib\\site-packages (from matplotlib->catboost) (3.0.4)\n",
      "Requirement already satisfied: pillow>=6.2.0 in c:\\users\\f5468981\\anaconda3\\lib\\site-packages (from matplotlib->catboost) (8.4.0)\n",
      "Requirement already satisfied: tenacity>=6.2.0 in c:\\users\\f5468981\\anaconda3\\lib\\site-packages (from plotly->catboost) (8.0.1)\n"
     ]
    }
   ],
   "source": [
    "%pip install catboost"
   ]
  },
  {
   "cell_type": "markdown",
   "id": "9660a9cb",
   "metadata": {},
   "source": [
    "<a id=\"two\"></a>\n",
    "## 2. Loading the Data\n",
    "<a class=\"anchor\" id=\"1.1\"></a>\n",
    "<a href=#cont>Back to Table of Contents</a>\n",
    "\n",
    "---\n",
    "    \n",
    "| ⚡ Description: Loading the data ⚡ |\n",
    "| :--------------------------- |\n",
    "\n",
    "---"
   ]
  },
  {
   "cell_type": "code",
   "execution_count": 37,
   "id": "7ac2203e",
   "metadata": {},
   "outputs": [],
   "source": [
    "# Load train data\n",
    "train = pd.read_csv('train_set.csv')\n",
    "\n",
    "# Load test data\n",
    "test = pd.read_csv('test_set.csv')"
   ]
  },
  {
   "cell_type": "markdown",
   "id": "1a1a66d4",
   "metadata": {},
   "source": [
    "<a id=\"three\"></a>\n",
    "## 3. Exploratory Data Analysis (EDA)\n",
    "<a class=\"anchor\" id=\"1.1\"></a>\n",
    "<a href=#cont>Back to Table of Contents</a>\n",
    "\n",
    "---\n",
    "    \n",
    "| ⚡ Description: Exploratory data analysis ⚡ |\n",
    "| :--------------------------- |\n",
    "|This phase is important. This will help to understand patterns in the data, pinpoint any outliers and indicate relationships between variables using  descriptive statistics and data visualisations\n",
    "\n",
    "---"
   ]
  },
  {
   "cell_type": "code",
   "execution_count": 38,
   "id": "d6b1af89",
   "metadata": {},
   "outputs": [
    {
     "data": {
      "text/html": [
       "<div>\n",
       "<style scoped>\n",
       "    .dataframe tbody tr th:only-of-type {\n",
       "        vertical-align: middle;\n",
       "    }\n",
       "\n",
       "    .dataframe tbody tr th {\n",
       "        vertical-align: top;\n",
       "    }\n",
       "\n",
       "    .dataframe thead th {\n",
       "        text-align: right;\n",
       "    }\n",
       "</style>\n",
       "<table border=\"1\" class=\"dataframe\">\n",
       "  <thead>\n",
       "    <tr style=\"text-align: right;\">\n",
       "      <th></th>\n",
       "      <th>lang_id</th>\n",
       "      <th>text</th>\n",
       "    </tr>\n",
       "  </thead>\n",
       "  <tbody>\n",
       "    <tr>\n",
       "      <th>0</th>\n",
       "      <td>xho</td>\n",
       "      <td>umgaqo-siseko wenza amalungiselelo kumaziko ax...</td>\n",
       "    </tr>\n",
       "    <tr>\n",
       "      <th>1</th>\n",
       "      <td>xho</td>\n",
       "      <td>i-dha iya kuba nobulumko bokubeka umsebenzi na...</td>\n",
       "    </tr>\n",
       "    <tr>\n",
       "      <th>2</th>\n",
       "      <td>eng</td>\n",
       "      <td>the province of kwazulu-natal department of tr...</td>\n",
       "    </tr>\n",
       "    <tr>\n",
       "      <th>3</th>\n",
       "      <td>nso</td>\n",
       "      <td>o netefatša gore o ba file dilo ka moka tše le...</td>\n",
       "    </tr>\n",
       "    <tr>\n",
       "      <th>4</th>\n",
       "      <td>ven</td>\n",
       "      <td>khomishini ya ndinganyiso ya mbeu yo ewa maana...</td>\n",
       "    </tr>\n",
       "    <tr>\n",
       "      <th>5</th>\n",
       "      <td>nso</td>\n",
       "      <td>dinyakišišo tše tša go dirwa gabedi ka ngwaga ...</td>\n",
       "    </tr>\n",
       "    <tr>\n",
       "      <th>6</th>\n",
       "      <td>tsn</td>\n",
       "      <td>kgetse nngwe le nngwe e e sa faposiwang mo tsh...</td>\n",
       "    </tr>\n",
       "    <tr>\n",
       "      <th>7</th>\n",
       "      <td>ven</td>\n",
       "      <td>mbadelo dze dza laelwa dzi do kwama mahatulele...</td>\n",
       "    </tr>\n",
       "    <tr>\n",
       "      <th>8</th>\n",
       "      <td>nso</td>\n",
       "      <td>maloko a dikhuduthamaga a ikarabela mongwe le ...</td>\n",
       "    </tr>\n",
       "    <tr>\n",
       "      <th>9</th>\n",
       "      <td>tsn</td>\n",
       "      <td>fa le dirisiwa lebone le tshwanetse go bontsha...</td>\n",
       "    </tr>\n",
       "  </tbody>\n",
       "</table>\n",
       "</div>"
      ],
      "text/plain": [
       "  lang_id                                               text\n",
       "0     xho  umgaqo-siseko wenza amalungiselelo kumaziko ax...\n",
       "1     xho  i-dha iya kuba nobulumko bokubeka umsebenzi na...\n",
       "2     eng  the province of kwazulu-natal department of tr...\n",
       "3     nso  o netefatša gore o ba file dilo ka moka tše le...\n",
       "4     ven  khomishini ya ndinganyiso ya mbeu yo ewa maana...\n",
       "5     nso  dinyakišišo tše tša go dirwa gabedi ka ngwaga ...\n",
       "6     tsn  kgetse nngwe le nngwe e e sa faposiwang mo tsh...\n",
       "7     ven  mbadelo dze dza laelwa dzi do kwama mahatulele...\n",
       "8     nso  maloko a dikhuduthamaga a ikarabela mongwe le ...\n",
       "9     tsn  fa le dirisiwa lebone le tshwanetse go bontsha..."
      ]
     },
     "execution_count": 38,
     "metadata": {},
     "output_type": "execute_result"
    }
   ],
   "source": [
    "# to view the first 10 rows of the train data\n",
    "train.head(10)"
   ]
  },
  {
   "cell_type": "code",
   "execution_count": 39,
   "id": "28e08c17",
   "metadata": {},
   "outputs": [
    {
     "data": {
      "text/html": [
       "<div>\n",
       "<style scoped>\n",
       "    .dataframe tbody tr th:only-of-type {\n",
       "        vertical-align: middle;\n",
       "    }\n",
       "\n",
       "    .dataframe tbody tr th {\n",
       "        vertical-align: top;\n",
       "    }\n",
       "\n",
       "    .dataframe thead th {\n",
       "        text-align: right;\n",
       "    }\n",
       "</style>\n",
       "<table border=\"1\" class=\"dataframe\">\n",
       "  <thead>\n",
       "    <tr style=\"text-align: right;\">\n",
       "      <th></th>\n",
       "      <th>index</th>\n",
       "      <th>text</th>\n",
       "    </tr>\n",
       "  </thead>\n",
       "  <tbody>\n",
       "    <tr>\n",
       "      <th>0</th>\n",
       "      <td>1</td>\n",
       "      <td>Mmasepala, fa maemo a a kgethegileng a letlele...</td>\n",
       "    </tr>\n",
       "    <tr>\n",
       "      <th>1</th>\n",
       "      <td>2</td>\n",
       "      <td>Uzakwaziswa ngokufaneleko nakungafuneka eminye...</td>\n",
       "    </tr>\n",
       "    <tr>\n",
       "      <th>2</th>\n",
       "      <td>3</td>\n",
       "      <td>Tshivhumbeo tshi fana na ngano dza vhathu.</td>\n",
       "    </tr>\n",
       "    <tr>\n",
       "      <th>3</th>\n",
       "      <td>4</td>\n",
       "      <td>Kube inja nelikati betingevakala kutsi titsini...</td>\n",
       "    </tr>\n",
       "    <tr>\n",
       "      <th>4</th>\n",
       "      <td>5</td>\n",
       "      <td>Winste op buitelandse valuta.</td>\n",
       "    </tr>\n",
       "    <tr>\n",
       "      <th>5</th>\n",
       "      <td>6</td>\n",
       "      <td>Ke feela dilense tše hlakilego, tša pono e tee...</td>\n",
       "    </tr>\n",
       "    <tr>\n",
       "      <th>6</th>\n",
       "      <td>7</td>\n",
       "      <td>&lt;fn&gt;(762010101403 AM) 1495 Final Gems Birthing...</td>\n",
       "    </tr>\n",
       "    <tr>\n",
       "      <th>7</th>\n",
       "      <td>8</td>\n",
       "      <td>Ntjhafatso ya konteraka ya mosebetsi: Etsa bon...</td>\n",
       "    </tr>\n",
       "    <tr>\n",
       "      <th>8</th>\n",
       "      <td>9</td>\n",
       "      <td>u-GEMS uhlinzeka ngezinzuzo zemithi yezifo ezi...</td>\n",
       "    </tr>\n",
       "    <tr>\n",
       "      <th>9</th>\n",
       "      <td>10</td>\n",
       "      <td>So, on occasion, are statistics misused.</td>\n",
       "    </tr>\n",
       "  </tbody>\n",
       "</table>\n",
       "</div>"
      ],
      "text/plain": [
       "   index                                               text\n",
       "0      1  Mmasepala, fa maemo a a kgethegileng a letlele...\n",
       "1      2  Uzakwaziswa ngokufaneleko nakungafuneka eminye...\n",
       "2      3         Tshivhumbeo tshi fana na ngano dza vhathu.\n",
       "3      4  Kube inja nelikati betingevakala kutsi titsini...\n",
       "4      5                      Winste op buitelandse valuta.\n",
       "5      6  Ke feela dilense tše hlakilego, tša pono e tee...\n",
       "6      7  <fn>(762010101403 AM) 1495 Final Gems Birthing...\n",
       "7      8  Ntjhafatso ya konteraka ya mosebetsi: Etsa bon...\n",
       "8      9  u-GEMS uhlinzeka ngezinzuzo zemithi yezifo ezi...\n",
       "9     10           So, on occasion, are statistics misused."
      ]
     },
     "execution_count": 39,
     "metadata": {},
     "output_type": "execute_result"
    }
   ],
   "source": [
    "# to view the first 10 rows of the test data\n",
    "test.head(10)"
   ]
  },
  {
   "cell_type": "code",
   "execution_count": 40,
   "id": "d68bbbba",
   "metadata": {},
   "outputs": [
    {
     "name": "stdout",
     "output_type": "stream",
     "text": [
      "<class 'pandas.core.frame.DataFrame'>\n",
      "RangeIndex: 33000 entries, 0 to 32999\n",
      "Data columns (total 2 columns):\n",
      " #   Column   Non-Null Count  Dtype \n",
      "---  ------   --------------  ----- \n",
      " 0   lang_id  33000 non-null  object\n",
      " 1   text     33000 non-null  object\n",
      "dtypes: object(2)\n",
      "memory usage: 515.8+ KB\n",
      "information of TRAIN dataset: None\n",
      "<class 'pandas.core.frame.DataFrame'>\n",
      "RangeIndex: 5682 entries, 0 to 5681\n",
      "Data columns (total 2 columns):\n",
      " #   Column  Non-Null Count  Dtype \n",
      "---  ------  --------------  ----- \n",
      " 0   index   5682 non-null   int64 \n",
      " 1   text    5682 non-null   object\n",
      "dtypes: int64(1), object(1)\n",
      "memory usage: 88.9+ KB\n",
      "informationof TEST dataaet: None\n"
     ]
    }
   ],
   "source": [
    "# view the info for both data set.\n",
    "print(f'information of TRAIN dataset: {train.info()}')\n",
    "print(f'informationof TEST dataaet: {test.info()}')"
   ]
  },
  {
   "cell_type": "markdown",
   "id": "07388ef6",
   "metadata": {},
   "source": [
    "- Train data has two categorical colums and test data has 1 categorical data \n",
    "- No missing values for both datasets"
   ]
  },
  {
   "cell_type": "code",
   "execution_count": 41,
   "id": "7447b3ea",
   "metadata": {},
   "outputs": [
    {
     "data": {
      "text/plain": [
       "(5682, 2)"
      ]
     },
     "execution_count": 41,
     "metadata": {},
     "output_type": "execute_result"
    }
   ],
   "source": [
    "test.shape"
   ]
  },
  {
   "cell_type": "code",
   "execution_count": 42,
   "id": "5a6874f8",
   "metadata": {},
   "outputs": [
    {
     "name": "stdout",
     "output_type": "stream",
     "text": [
      "(33000, 2)\n"
     ]
    }
   ],
   "source": [
    "print(train.shape)"
   ]
  },
  {
   "cell_type": "markdown",
   "id": "d2501c9a",
   "metadata": {},
   "source": [
    "### Further exploratory of data"
   ]
  },
  {
   "cell_type": "code",
   "execution_count": 43,
   "id": "ed0121bf",
   "metadata": {},
   "outputs": [
    {
     "data": {
      "text/plain": [
       "lang_id    0\n",
       "text       0\n",
       "dtype: int64"
      ]
     },
     "execution_count": 43,
     "metadata": {},
     "output_type": "execute_result"
    }
   ],
   "source": [
    "train.isnull().sum()"
   ]
  },
  {
   "cell_type": "code",
   "execution_count": 44,
   "id": "6304a4fc",
   "metadata": {},
   "outputs": [
    {
     "data": {
      "text/plain": [
       "index    0\n",
       "text     0\n",
       "dtype: int64"
      ]
     },
     "execution_count": 44,
     "metadata": {},
     "output_type": "execute_result"
    }
   ],
   "source": [
    "test.isnull().sum()"
   ]
  },
  {
   "cell_type": "markdown",
   "id": "7f0fc86b",
   "metadata": {},
   "source": [
    "insight  = `No Missing Values in the Datasets`"
   ]
  },
  {
   "cell_type": "code",
   "execution_count": 45,
   "id": "bc741156",
   "metadata": {},
   "outputs": [
    {
     "data": {
      "image/png": "[encoded data removed]",
      "text/plain": [
       "<Figure size 864x432 with 1 Axes>"
      ]
     },
     "metadata": {
      "needs_background": "light"
     },
     "output_type": "display_data"
    }
   ],
   "source": [
    "# Distributin of each language \n",
    "plt.figure(figsize=(12,6))\n",
    "sns.countplot(x='lang_id',data=train, palette=\"autumn\")\n",
    "plt.title('Count of lang_id\\n')\n",
    "plt.show()"
   ]
  },
  {
   "cell_type": "code",
   "execution_count": 46,
   "id": "e09fcb64",
   "metadata": {},
   "outputs": [
    {
     "data": {
      "text/plain": [
       "xho    3000\n",
       "eng    3000\n",
       "nso    3000\n",
       "ven    3000\n",
       "tsn    3000\n",
       "nbl    3000\n",
       "zul    3000\n",
       "ssw    3000\n",
       "tso    3000\n",
       "sot    3000\n",
       "afr    3000\n",
       "Name: lang_id, dtype: int64"
      ]
     },
     "execution_count": 46,
     "metadata": {},
     "output_type": "execute_result"
    }
   ],
   "source": [
    "# count of observations per lan_id\n",
    "train.lang_id.value_counts()"
   ]
  },
  {
   "cell_type": "markdown",
   "id": "cc1315b9",
   "metadata": {},
   "source": [
    "unique Language IDs\n",
    "\n",
    "- afr - Afrikaans\n",
    "- eng - English\n",
    "- nbl - isiNdebele\n",
    "- nso - Sepedi\n",
    "- sot - Sesotho\n",
    "- ssw - siSwati\n",
    "- tsn - Setswana\n",
    "- tso - Xitsonga\n",
    "- ven - Tshivenda\n",
    "- xho - isiXhosa\n",
    "- zul - isiZulu"
   ]
  },
  {
   "cell_type": "markdown",
   "id": "73076dd1",
   "metadata": {},
   "source": [
    "<a id=\"four\"></a>\n",
    "## 4. Data cleaning\n",
    "<a class=\"anchor\" id=\"1.1\"></a>\n",
    "<a href=#cont>Back to Table of Contents</a>\n",
    "\n",
    "---\n",
    "    \n",
    "| ⚡ Description: Data Cleaning ⚡ |\n",
    "| :--------------------------- |\n",
    "|  clean the dataset, and possibly create new features -using Natural language process . |"
   ]
  },
  {
   "cell_type": "code",
   "execution_count": 47,
   "id": "15c5b11a",
   "metadata": {},
   "outputs": [
    {
     "data": {
      "text/plain": [
       "Index(['lang_id', 'text'], dtype='object')"
      ]
     },
     "execution_count": 47,
     "metadata": {},
     "output_type": "execute_result"
    }
   ],
   "source": [
    "df = train.copy()\n",
    "df.columns"
   ]
  },
  {
   "cell_type": "markdown",
   "id": "8aebdb9d",
   "metadata": {},
   "source": [
    "# 4.1 Cleaning the data \n",
    "Removing the noise in the data sets  such as punctuation and numbers  making the data more clean "
   ]
  },
  {
   "cell_type": "markdown",
   "id": "502f8cfd",
   "metadata": {},
   "source": [
    "Cleaning the train data"
   ]
  },
  {
   "cell_type": "code",
   "execution_count": 48,
   "id": "00631c49",
   "metadata": {},
   "outputs": [
    {
     "name": "stdout",
     "output_type": "stream",
     "text": [
      "Lowering case...\n",
      "removing htmltags...\n",
      "Cleaning punctuation...\n",
      "removing space ...\n"
     ]
    },
    {
     "data": {
      "text/html": [
       "<div>\n",
       "<style scoped>\n",
       "    .dataframe tbody tr th:only-of-type {\n",
       "        vertical-align: middle;\n",
       "    }\n",
       "\n",
       "    .dataframe tbody tr th {\n",
       "        vertical-align: top;\n",
       "    }\n",
       "\n",
       "    .dataframe thead th {\n",
       "        text-align: right;\n",
       "    }\n",
       "</style>\n",
       "<table border=\"1\" class=\"dataframe\">\n",
       "  <thead>\n",
       "    <tr style=\"text-align: right;\">\n",
       "      <th></th>\n",
       "      <th>lang_id</th>\n",
       "      <th>text</th>\n",
       "    </tr>\n",
       "  </thead>\n",
       "  <tbody>\n",
       "    <tr>\n",
       "      <th>0</th>\n",
       "      <td>xho</td>\n",
       "      <td>umgaqosiseko wenza amalungiselelo kumaziko axh...</td>\n",
       "    </tr>\n",
       "    <tr>\n",
       "      <th>1</th>\n",
       "      <td>xho</td>\n",
       "      <td>idha iya kuba nobulumko bokubeka umsebenzi nap...</td>\n",
       "    </tr>\n",
       "    <tr>\n",
       "      <th>2</th>\n",
       "      <td>eng</td>\n",
       "      <td>the province of kwazulunatal department of tra...</td>\n",
       "    </tr>\n",
       "    <tr>\n",
       "      <th>3</th>\n",
       "      <td>nso</td>\n",
       "      <td>o netefatša gore o ba file dilo ka moka tše le...</td>\n",
       "    </tr>\n",
       "    <tr>\n",
       "      <th>4</th>\n",
       "      <td>ven</td>\n",
       "      <td>khomishini ya ndinganyiso ya mbeu yo ewa maana...</td>\n",
       "    </tr>\n",
       "    <tr>\n",
       "      <th>5</th>\n",
       "      <td>nso</td>\n",
       "      <td>dinyakišišo tše tša go dirwa gabedi ka ngwaga ...</td>\n",
       "    </tr>\n",
       "    <tr>\n",
       "      <th>6</th>\n",
       "      <td>tsn</td>\n",
       "      <td>kgetse nngwe le nngwe e e sa faposiwang mo tsh...</td>\n",
       "    </tr>\n",
       "    <tr>\n",
       "      <th>7</th>\n",
       "      <td>ven</td>\n",
       "      <td>mbadelo dze dza laelwa dzi do kwama mahatulele...</td>\n",
       "    </tr>\n",
       "    <tr>\n",
       "      <th>8</th>\n",
       "      <td>nso</td>\n",
       "      <td>maloko a dikhuduthamaga a ikarabela mongwe le ...</td>\n",
       "    </tr>\n",
       "    <tr>\n",
       "      <th>9</th>\n",
       "      <td>tsn</td>\n",
       "      <td>fa le dirisiwa lebone le tshwanetse go bontsha...</td>\n",
       "    </tr>\n",
       "  </tbody>\n",
       "</table>\n",
       "</div>"
      ],
      "text/plain": [
       "  lang_id                                               text\n",
       "0     xho  umgaqosiseko wenza amalungiselelo kumaziko axh...\n",
       "1     xho  idha iya kuba nobulumko bokubeka umsebenzi nap...\n",
       "2     eng  the province of kwazulunatal department of tra...\n",
       "3     nso  o netefatša gore o ba file dilo ka moka tše le...\n",
       "4     ven  khomishini ya ndinganyiso ya mbeu yo ewa maana...\n",
       "5     nso  dinyakišišo tše tša go dirwa gabedi ka ngwaga ...\n",
       "6     tsn  kgetse nngwe le nngwe e e sa faposiwang mo tsh...\n",
       "7     ven  mbadelo dze dza laelwa dzi do kwama mahatulele...\n",
       "8     nso  maloko a dikhuduthamaga a ikarabela mongwe le ...\n",
       "9     tsn  fa le dirisiwa lebone le tshwanetse go bontsha..."
      ]
     },
     "execution_count": 48,
     "metadata": {},
     "output_type": "execute_result"
    }
   ],
   "source": [
    "## data cleaning for train data\n",
    "# Make lower case\n",
    "print ('Lowering case...')\n",
    "df['text'] = df['text'].str.lower()\n",
    "#removing tags \n",
    "print('removing htmltags...')\n",
    "to_remove = re.compile('<.*?>|&([a-z0-9]+|#[0-9]{1,6}|#x[0-9a-f]{1,6});''<.*?>')\n",
    "#to_remove =re.compile('<.*?>')\n",
    "#function to remove the tags\n",
    "def cleantags(lang):\n",
    "  cleanlang = re.sub(to_remove, '', lang)\n",
    "  return cleanlang\n",
    "df['text'] = df['text'].apply(cleantags)\n",
    "\n",
    "#Remove punctuation\n",
    "import string\n",
    "print ('Cleaning punctuation...')\n",
    "def remove_punctuation_numbers(lang):\n",
    "  punc_numbers = string.punctuation + '0123456789'\n",
    "  return ''.join([l for l in lang if l not in punc_numbers])\n",
    "df['text'] = df['text'].apply(remove_punctuation_numbers)\n",
    "\n",
    "#removing newline space\n",
    "print(\"removing space ...\")\n",
    "def cleantext(text):\n",
    "  text =re.sub(\"\\n\",\" \",text)\n",
    "  return text\n",
    "df['text'] = df['text'].apply(cleantext)\n",
    "\n",
    "df.head(10)"
   ]
  },
  {
   "cell_type": "code",
   "execution_count": 49,
   "id": "aa45856c",
   "metadata": {},
   "outputs": [
    {
     "name": "stderr",
     "output_type": "stream",
     "text": [
      "C:\\Users\\f5468981\\AppData\\Local\\Temp/ipykernel_21764/4182000962.py:2: FutureWarning: The default value of regex will change from True to False in a future version.\n",
      "  df['text'] =df['text'].str.replace(\".txt\",\"\")\n"
     ]
    }
   ],
   "source": [
    "#placing some short words\n",
    "df['text'] =df['text'].str.replace(\".txt\",\"\")"
   ]
  },
  {
   "cell_type": "code",
   "execution_count": 50,
   "id": "3c800bbb",
   "metadata": {},
   "outputs": [
    {
     "data": {
      "text/plain": [
       "0        umgaqosiseko wenza amalungiselelo kumaziko axh...\n",
       "1        idha iya kuba nobulumko bokubeka umsebenzi nap...\n",
       "2        the province of kwazulunatal department of tra...\n",
       "3        netefatša gore ba file dilo ka moka tše le dum...\n",
       "4        khomishini ya ndinganyiso ya mbeu yo ewa maana...\n",
       "                               ...                        \n",
       "32995    popo ya dipolateforomo tse ke go tlisa boetele...\n",
       "32996    modise mosadi na ntse sa utlwe hore thabang ra...\n",
       "32997    closing date for the submission of completed t...\n",
       "32998    nawuphina umntu ofunyenwe enetyala phantsi kwa...\n",
       "32999    mafapha mang le ona lokela ho etsa ditlaleho t...\n",
       "Name: text, Length: 33000, dtype: object"
      ]
     },
     "execution_count": 50,
     "metadata": {},
     "output_type": "execute_result"
    }
   ],
   "source": [
    "# removing short words from train data\n",
    "df['text'].apply(lambda x: ' '.join([w for w in x.split() if len(w)>1]))\n"
   ]
  },
  {
   "cell_type": "markdown",
   "id": "de23bd10",
   "metadata": {},
   "source": [
    "# Cleaning the test data"
   ]
  },
  {
   "cell_type": "code",
   "execution_count": 51,
   "id": "b96a0a3f",
   "metadata": {},
   "outputs": [
    {
     "data": {
      "text/html": [
       "<div>\n",
       "<style scoped>\n",
       "    .dataframe tbody tr th:only-of-type {\n",
       "        vertical-align: middle;\n",
       "    }\n",
       "\n",
       "    .dataframe tbody tr th {\n",
       "        vertical-align: top;\n",
       "    }\n",
       "\n",
       "    .dataframe thead th {\n",
       "        text-align: right;\n",
       "    }\n",
       "</style>\n",
       "<table border=\"1\" class=\"dataframe\">\n",
       "  <thead>\n",
       "    <tr style=\"text-align: right;\">\n",
       "      <th></th>\n",
       "      <th>index</th>\n",
       "      <th>text</th>\n",
       "    </tr>\n",
       "  </thead>\n",
       "  <tbody>\n",
       "    <tr>\n",
       "      <th>0</th>\n",
       "      <td>1</td>\n",
       "      <td>Mmasepala, fa maemo a a kgethegileng a letlele...</td>\n",
       "    </tr>\n",
       "    <tr>\n",
       "      <th>1</th>\n",
       "      <td>2</td>\n",
       "      <td>Uzakwaziswa ngokufaneleko nakungafuneka eminye...</td>\n",
       "    </tr>\n",
       "    <tr>\n",
       "      <th>2</th>\n",
       "      <td>3</td>\n",
       "      <td>Tshivhumbeo tshi fana na ngano dza vhathu.</td>\n",
       "    </tr>\n",
       "    <tr>\n",
       "      <th>3</th>\n",
       "      <td>4</td>\n",
       "      <td>Kube inja nelikati betingevakala kutsi titsini...</td>\n",
       "    </tr>\n",
       "    <tr>\n",
       "      <th>4</th>\n",
       "      <td>5</td>\n",
       "      <td>Winste op buitelandse valuta.</td>\n",
       "    </tr>\n",
       "    <tr>\n",
       "      <th>5</th>\n",
       "      <td>6</td>\n",
       "      <td>Ke feela dilense tše hlakilego, tša pono e tee...</td>\n",
       "    </tr>\n",
       "    <tr>\n",
       "      <th>6</th>\n",
       "      <td>7</td>\n",
       "      <td>&lt;fn&gt;(762010101403 AM) 1495 Final Gems Birthing...</td>\n",
       "    </tr>\n",
       "    <tr>\n",
       "      <th>7</th>\n",
       "      <td>8</td>\n",
       "      <td>Ntjhafatso ya konteraka ya mosebetsi: Etsa bon...</td>\n",
       "    </tr>\n",
       "    <tr>\n",
       "      <th>8</th>\n",
       "      <td>9</td>\n",
       "      <td>u-GEMS uhlinzeka ngezinzuzo zemithi yezifo ezi...</td>\n",
       "    </tr>\n",
       "    <tr>\n",
       "      <th>9</th>\n",
       "      <td>10</td>\n",
       "      <td>So, on occasion, are statistics misused.</td>\n",
       "    </tr>\n",
       "  </tbody>\n",
       "</table>\n",
       "</div>"
      ],
      "text/plain": [
       "   index                                               text\n",
       "0      1  Mmasepala, fa maemo a a kgethegileng a letlele...\n",
       "1      2  Uzakwaziswa ngokufaneleko nakungafuneka eminye...\n",
       "2      3         Tshivhumbeo tshi fana na ngano dza vhathu.\n",
       "3      4  Kube inja nelikati betingevakala kutsi titsini...\n",
       "4      5                      Winste op buitelandse valuta.\n",
       "5      6  Ke feela dilense tše hlakilego, tša pono e tee...\n",
       "6      7  <fn>(762010101403 AM) 1495 Final Gems Birthing...\n",
       "7      8  Ntjhafatso ya konteraka ya mosebetsi: Etsa bon...\n",
       "8      9  u-GEMS uhlinzeka ngezinzuzo zemithi yezifo ezi...\n",
       "9     10           So, on occasion, are statistics misused."
      ]
     },
     "execution_count": 51,
     "metadata": {},
     "output_type": "execute_result"
    }
   ],
   "source": [
    "#test data before being cleaned\n",
    "test.head(10)"
   ]
  },
  {
   "cell_type": "code",
   "execution_count": 52,
   "id": "95bf767f",
   "metadata": {},
   "outputs": [],
   "source": [
    "df_test = test.copy()"
   ]
  },
  {
   "cell_type": "code",
   "execution_count": 53,
   "id": "32da13df",
   "metadata": {},
   "outputs": [
    {
     "name": "stdout",
     "output_type": "stream",
     "text": [
      "Lowering case...\n",
      "removing tags...\n",
      "Cleaning punctuation...\n",
      "removing space ...\n"
     ]
    },
    {
     "data": {
      "text/html": [
       "<div>\n",
       "<style scoped>\n",
       "    .dataframe tbody tr th:only-of-type {\n",
       "        vertical-align: middle;\n",
       "    }\n",
       "\n",
       "    .dataframe tbody tr th {\n",
       "        vertical-align: top;\n",
       "    }\n",
       "\n",
       "    .dataframe thead th {\n",
       "        text-align: right;\n",
       "    }\n",
       "</style>\n",
       "<table border=\"1\" class=\"dataframe\">\n",
       "  <thead>\n",
       "    <tr style=\"text-align: right;\">\n",
       "      <th></th>\n",
       "      <th>index</th>\n",
       "      <th>text</th>\n",
       "    </tr>\n",
       "  </thead>\n",
       "  <tbody>\n",
       "    <tr>\n",
       "      <th>0</th>\n",
       "      <td>1</td>\n",
       "      <td>mmasepala fa maemo a a kgethegileng a letlelel...</td>\n",
       "    </tr>\n",
       "    <tr>\n",
       "      <th>1</th>\n",
       "      <td>2</td>\n",
       "      <td>uzakwaziswa ngokufaneleko nakungafuneka eminye...</td>\n",
       "    </tr>\n",
       "    <tr>\n",
       "      <th>2</th>\n",
       "      <td>3</td>\n",
       "      <td>tshivhumbeo tshi fana na ngano dza vhathu</td>\n",
       "    </tr>\n",
       "    <tr>\n",
       "      <th>3</th>\n",
       "      <td>4</td>\n",
       "      <td>kube inja nelikati betingevakala kutsi titsini...</td>\n",
       "    </tr>\n",
       "    <tr>\n",
       "      <th>4</th>\n",
       "      <td>5</td>\n",
       "      <td>winste op buitelandse valuta</td>\n",
       "    </tr>\n",
       "    <tr>\n",
       "      <th>5</th>\n",
       "      <td>6</td>\n",
       "      <td>ke feela dilense tše hlakilego tša pono e tee ...</td>\n",
       "    </tr>\n",
       "    <tr>\n",
       "      <th>6</th>\n",
       "      <td>7</td>\n",
       "      <td>am  final gems birthing optionszulutxt</td>\n",
       "    </tr>\n",
       "    <tr>\n",
       "      <th>7</th>\n",
       "      <td>8</td>\n",
       "      <td>ntjhafatso ya konteraka ya mosebetsi etsa bonn...</td>\n",
       "    </tr>\n",
       "    <tr>\n",
       "      <th>8</th>\n",
       "      <td>9</td>\n",
       "      <td>ugems uhlinzeka ngezinzuzo zemithi yezifo ezin...</td>\n",
       "    </tr>\n",
       "    <tr>\n",
       "      <th>9</th>\n",
       "      <td>10</td>\n",
       "      <td>so on occasion are statistics misused</td>\n",
       "    </tr>\n",
       "  </tbody>\n",
       "</table>\n",
       "</div>"
      ],
      "text/plain": [
       "   index                                               text\n",
       "0      1  mmasepala fa maemo a a kgethegileng a letlelel...\n",
       "1      2  uzakwaziswa ngokufaneleko nakungafuneka eminye...\n",
       "2      3          tshivhumbeo tshi fana na ngano dza vhathu\n",
       "3      4  kube inja nelikati betingevakala kutsi titsini...\n",
       "4      5                       winste op buitelandse valuta\n",
       "5      6  ke feela dilense tše hlakilego tša pono e tee ...\n",
       "6      7             am  final gems birthing optionszulutxt\n",
       "7      8  ntjhafatso ya konteraka ya mosebetsi etsa bonn...\n",
       "8      9  ugems uhlinzeka ngezinzuzo zemithi yezifo ezin...\n",
       "9     10              so on occasion are statistics misused"
      ]
     },
     "execution_count": 53,
     "metadata": {},
     "output_type": "execute_result"
    }
   ],
   "source": [
    "# data cleaning for train data\n",
    "# Make lower case\n",
    "print ('Lowering case...')\n",
    "df_test['text'] = df_test['text'].str.lower()\n",
    "#removing tags \n",
    "to_remove = re.compile('<.*?>|&([a-z0-9]+|#[0-9]{1,6}|#x[0-9a-f]{1,6});''<.*?>')\n",
    "#to_remove =re.compile('<.*?>')\n",
    "#function to remove the tags\n",
    "print(\"removing tags...\")\n",
    "def cleantags(lang):\n",
    "  cleanlang = re.sub(to_remove, '', lang)\n",
    "  return cleanlang\n",
    "df_test['text'] = df_test['text'].apply(cleantags)\n",
    "\n",
    "#Remove punctuation\n",
    "import string\n",
    "print ('Cleaning punctuation...')\n",
    "def remove_punctuation_numbers(lang):\n",
    "  punc_numbers = string.punctuation + '0123456789'\n",
    "  return ''.join([l for l in lang if l not in punc_numbers])\n",
    "df_test['text'] =df_test['text'].apply(remove_punctuation_numbers)\n",
    "\n",
    "#removing newline space\n",
    "print(\"removing space ...\")\n",
    "def cleantext(text):\n",
    "  text =re.sub(\"\\n\",\" \",text)\n",
    "  return text\n",
    "df_test['text'] = df_test['text'].apply(cleantext)\n",
    "\n",
    "\n",
    "df_test.head(10)"
   ]
  },
  {
   "cell_type": "code",
   "execution_count": 54,
   "id": "5092d3b4",
   "metadata": {},
   "outputs": [
    {
     "name": "stderr",
     "output_type": "stream",
     "text": [
      "C:\\Users\\f5468981\\AppData\\Local\\Temp/ipykernel_21764/2704908093.py:2: FutureWarning: The default value of regex will change from True to False in a future version.\n",
      "  df_test['text'] =df_test['text'].str.replace(\".txt\",'')\n"
     ]
    }
   ],
   "source": [
    "#placing some short words\n",
    "df_test['text'] =df_test['text'].str.replace(\".txt\",'')"
   ]
  },
  {
   "cell_type": "code",
   "execution_count": 55,
   "id": "7b36aebe",
   "metadata": {},
   "outputs": [
    {
     "data": {
      "text/plain": [
       "0       mmasepala fa maemo kgethegileng letlelela kgat...\n",
       "1       uzakwaziswa ngokufaneleko nakungafuneka eminye...\n",
       "2               tshivhumbeo tshi fana na ngano dza vhathu\n",
       "3       kube inja nelikati betingevakala kutsi titsini...\n",
       "4                            winste op buitelandse valuta\n",
       "                              ...                        \n",
       "5677                      you mark your ballot in private\n",
       "5678    ge ka kgetha ka bowena go se šomiše mofani ka ...\n",
       "5679    ka kopo etsa kgetho ya hao ka hloko hobane ha ...\n",
       "5680    tb ke bokudi ba pmb mme morero tla lefella tlh...\n",
       "5681                  vakatjhela iwebhusayidi yethu kuwww\n",
       "Name: text, Length: 5682, dtype: object"
      ]
     },
     "execution_count": 55,
     "metadata": {},
     "output_type": "execute_result"
    }
   ],
   "source": [
    "# removing short words from train data\n",
    "df_test['text'].apply(lambda x: ' '.join([w for w in x.split() if len(w)>1]))\n"
   ]
  },
  {
   "cell_type": "markdown",
   "id": "e1079c09",
   "metadata": {},
   "source": [
    "<a id=\"five\"></a>\n",
    "## 5. Modelling\n",
    "<a class=\"anchor\" id=\"1.1\"></a>\n",
    "<a href=#cont>Back to Table of Contents</a>\n",
    "\n",
    "---\n",
    "    \n",
    "| ⚡ Description: Modelling ⚡ |\n",
    "| :--------------------------- |\n",
    "| In this section, create one or more regression models that are able to accurately predict the Sentiment. |\n",
    "\n",
    "---"
   ]
  },
  {
   "cell_type": "markdown",
   "id": "a400c932",
   "metadata": {},
   "source": []
  },
  {
   "cell_type": "code",
   "execution_count": 56,
   "id": "75c52be9",
   "metadata": {},
   "outputs": [],
   "source": [
    "# selecting the features and the target\n",
    "x = df['text']\n",
    "y = df['lang_id']\n",
    "\n",
    "# two vectoriser to use  which one to chose\n",
    "#cv = CountVectorizer()\n",
    "tfidf = TfidfVectorizer()\n",
    "X = tfidf.fit_transform(x)\n",
    "#splitting the data\n",
    "X_train, X_test, y_train, y_test = train_test_split(X, y, \n",
    "                                                    test_size=0.1, \n",
    "                                                    random_state=42)"
   ]
  },
  {
   "cell_type": "markdown",
   "id": "4e78b918",
   "metadata": {},
   "source": [
    "# Building Classifiers"
   ]
  },
  {
   "cell_type": "code",
   "execution_count": 57,
   "id": "8d03a800",
   "metadata": {},
   "outputs": [],
   "source": [
    "from catboost import CatBoostClassifier, Pool, cv\n",
    "from sklearn.linear_model import RidgeClassifier"
   ]
  },
  {
   "cell_type": "code",
   "execution_count": 59,
   "id": "b9ec16a0",
   "metadata": {},
   "outputs": [],
   "source": [
    "names = ['Logistic Regression', 'Nearest Neighbors','MultinomialNB',\n",
    "         'SGDClassifier','ComplementNB', 'Random Forest', 'Ridge']"
   ]
  },
  {
   "cell_type": "code",
   "execution_count": 60,
   "id": "fa8dc3e1",
   "metadata": {},
   "outputs": [],
   "source": [
    "classifiers = [\n",
    "    LogisticRegression(C=1000,\n",
    "            max_iter= 1000,\n",
    "            multi_class='ovr',\n",
    "            random_state= 220,\n",
    "            solver= 'saga'),\n",
    "    KNeighborsClassifier(1),MultinomialNB(alpha = 0.1),\n",
    "    SGDClassifier(loss='hinge',\n",
    "                    penalty='l2',\n",
    "                    alpha=1e-3,\n",
    "                    random_state=42,\n",
    "                    max_iter=1000),\n",
    "    ComplementNB(),\n",
    "    RandomForestClassifier(max_depth=5, n_estimators=10, max_features=1),\n",
    "    RidgeClassifier(alpha = 0.1)\n",
    "]"
   ]
  },
  {
   "cell_type": "markdown",
   "id": "bfc546f4",
   "metadata": {},
   "source": [
    "<a id=\"six\"></a>\n",
    "## 6. Model Performance\n",
    "<a class=\"anchor\" id=\"1.1\"></a>\n",
    "<a href=#cont>Back to Table of Contents</a>\n",
    "\n",
    "---\n",
    "    \n",
    "| ⚡ Description: Model performance ⚡ |\n",
    "| :--------------------------- |\n",
    "| In this section you are required to compare the relative performance of the various trained ML models on a holdout dataset and comment on what model is the best and why. |\n",
    "\n",
    "---"
   ]
  },
  {
   "cell_type": "code",
   "execution_count": 61,
   "id": "b9475a20",
   "metadata": {},
   "outputs": [
    {
     "name": "stdout",
     "output_type": "stream",
     "text": [
      "Fitting Logistic Regression model...\n"
     ]
    },
    {
     "name": "stderr",
     "output_type": "stream",
     "text": [
      "c:\\Users\\f5468981\\Anaconda3\\lib\\site-packages\\sklearn\\linear_model\\_sag.py:350: ConvergenceWarning: The max_iter was reached which means the coef_ did not converge\n",
      "  warnings.warn(\n",
      "c:\\Users\\f5468981\\Anaconda3\\lib\\site-packages\\sklearn\\linear_model\\_sag.py:350: ConvergenceWarning: The max_iter was reached which means the coef_ did not converge\n",
      "  warnings.warn(\n",
      "c:\\Users\\f5468981\\Anaconda3\\lib\\site-packages\\sklearn\\linear_model\\_sag.py:350: ConvergenceWarning: The max_iter was reached which means the coef_ did not converge\n",
      "  warnings.warn(\n",
      "c:\\Users\\f5468981\\Anaconda3\\lib\\site-packages\\sklearn\\linear_model\\_sag.py:350: ConvergenceWarning: The max_iter was reached which means the coef_ did not converge\n",
      "  warnings.warn(\n",
      "c:\\Users\\f5468981\\Anaconda3\\lib\\site-packages\\sklearn\\linear_model\\_sag.py:350: ConvergenceWarning: The max_iter was reached which means the coef_ did not converge\n",
      "  warnings.warn(\n",
      "c:\\Users\\f5468981\\Anaconda3\\lib\\site-packages\\sklearn\\linear_model\\_sag.py:350: ConvergenceWarning: The max_iter was reached which means the coef_ did not converge\n",
      "  warnings.warn(\n",
      "c:\\Users\\f5468981\\Anaconda3\\lib\\site-packages\\sklearn\\linear_model\\_sag.py:350: ConvergenceWarning: The max_iter was reached which means the coef_ did not converge\n",
      "  warnings.warn(\n",
      "c:\\Users\\f5468981\\Anaconda3\\lib\\site-packages\\sklearn\\linear_model\\_sag.py:350: ConvergenceWarning: The max_iter was reached which means the coef_ did not converge\n",
      "  warnings.warn(\n",
      "c:\\Users\\f5468981\\Anaconda3\\lib\\site-packages\\sklearn\\linear_model\\_sag.py:350: ConvergenceWarning: The max_iter was reached which means the coef_ did not converge\n",
      "  warnings.warn(\n",
      "c:\\Users\\f5468981\\Anaconda3\\lib\\site-packages\\sklearn\\linear_model\\_sag.py:350: ConvergenceWarning: The max_iter was reached which means the coef_ did not converge\n",
      "  warnings.warn(\n",
      "c:\\Users\\f5468981\\Anaconda3\\lib\\site-packages\\sklearn\\linear_model\\_sag.py:350: ConvergenceWarning: The max_iter was reached which means the coef_ did not converge\n",
      "  warnings.warn(\n",
      "c:\\Users\\f5468981\\Anaconda3\\lib\\site-packages\\sklearn\\linear_model\\_sag.py:350: ConvergenceWarning: The max_iter was reached which means the coef_ did not converge\n",
      "  warnings.warn(\n",
      "c:\\Users\\f5468981\\Anaconda3\\lib\\site-packages\\sklearn\\linear_model\\_sag.py:350: ConvergenceWarning: The max_iter was reached which means the coef_ did not converge\n",
      "  warnings.warn(\n",
      "c:\\Users\\f5468981\\Anaconda3\\lib\\site-packages\\sklearn\\linear_model\\_sag.py:350: ConvergenceWarning: The max_iter was reached which means the coef_ did not converge\n",
      "  warnings.warn(\n",
      "c:\\Users\\f5468981\\Anaconda3\\lib\\site-packages\\sklearn\\linear_model\\_sag.py:350: ConvergenceWarning: The max_iter was reached which means the coef_ did not converge\n",
      "  warnings.warn(\n",
      "c:\\Users\\f5468981\\Anaconda3\\lib\\site-packages\\sklearn\\linear_model\\_sag.py:350: ConvergenceWarning: The max_iter was reached which means the coef_ did not converge\n",
      "  warnings.warn(\n"
     ]
    },
    {
     "name": "stdout",
     "output_type": "stream",
     "text": [
      "... predicting\n",
      "... scoring\n",
      "Fitting Nearest Neighbors model...\n",
      "... predicting\n",
      "... scoring\n",
      "Fitting MultinomialNB model...\n",
      "... predicting\n",
      "... scoring\n",
      "Fitting SGDClassifier model...\n",
      "... predicting\n",
      "... scoring\n",
      "Fitting ComplementNB model...\n",
      "... predicting\n",
      "... scoring\n",
      "Fitting Random Forest model...\n",
      "... predicting\n",
      "... scoring\n",
      "Fitting Ridge model...\n",
      "... predicting\n",
      "... scoring\n",
      "... ALL models done running \n"
     ]
    }
   ],
   "source": [
    "results = []\n",
    "\n",
    "models = {}\n",
    "confusion = {}\n",
    "class_report = {}\n",
    "\n",
    "\n",
    "for name, clf in zip(names, classifiers):\n",
    "    print ('Fitting {:s} model...'.format(name))\n",
    "    run_time = %timeit -q -o clf.fit(X_train, y_train)\n",
    "\n",
    "    print ('... predicting')\n",
    "    y_pred = clf.predict(X_train)\n",
    "    y_pred_test = clf.predict(X_test)\n",
    "\n",
    "    print ('... scoring')\n",
    "    accuracy  = metrics.accuracy_score(y_train, y_pred,)\n",
    "    precision = metrics.precision_score(y_train, y_pred,average='weighted')\n",
    "    recall    = metrics.recall_score(y_train, y_pred,average=\"weighted\")\n",
    "\n",
    "    f1        = metrics.f1_score(y_train, y_pred,average=\"weighted\")\n",
    "    f1_test   = metrics.f1_score(y_test, y_pred_test,average=\"weighted\")\n",
    "\n",
    "    # Save the results to dictionaries\n",
    "    models[name] = clf\n",
    "    confusion[name] = metrics.confusion_matrix(y_train, y_pred)\n",
    "    class_report[name] = metrics.classification_report(y_train, y_pred)\n",
    "\n",
    "    results.append([name, accuracy, precision, recall, f1, f1_test, run_time.best])\n",
    "\n",
    "\n",
    "results = pd.DataFrame(results, columns=['Classifier', 'Accuracy', 'Precision', 'Recall', 'F1 Train', 'F1 Test', 'Train Time'])\n",
    "results.set_index('Classifier', inplace= True)\n",
    "\n",
    "print ('... ALL models done running ')"
   ]
  },
  {
   "cell_type": "markdown",
   "id": "d09191d2",
   "metadata": {},
   "source": [
    "Reviewing the model perfomance "
   ]
  },
  {
   "cell_type": "code",
   "execution_count": 64,
   "id": "98204aa6",
   "metadata": {},
   "outputs": [
    {
     "data": {
      "text/html": [
       "<div>\n",
       "<style scoped>\n",
       "    .dataframe tbody tr th:only-of-type {\n",
       "        vertical-align: middle;\n",
       "    }\n",
       "\n",
       "    .dataframe tbody tr th {\n",
       "        vertical-align: top;\n",
       "    }\n",
       "\n",
       "    .dataframe thead th {\n",
       "        text-align: right;\n",
       "    }\n",
       "</style>\n",
       "<table border=\"1\" class=\"dataframe\">\n",
       "  <thead>\n",
       "    <tr style=\"text-align: right;\">\n",
       "      <th></th>\n",
       "      <th>Accuracy</th>\n",
       "      <th>Precision</th>\n",
       "      <th>Recall</th>\n",
       "      <th>F1 Train</th>\n",
       "      <th>F1 Test</th>\n",
       "      <th>Train Time</th>\n",
       "    </tr>\n",
       "    <tr>\n",
       "      <th>Classifier</th>\n",
       "      <th></th>\n",
       "      <th></th>\n",
       "      <th></th>\n",
       "      <th></th>\n",
       "      <th></th>\n",
       "      <th></th>\n",
       "    </tr>\n",
       "  </thead>\n",
       "  <tbody>\n",
       "    <tr>\n",
       "      <th>Logistic Regression</th>\n",
       "      <td>1.000000</td>\n",
       "      <td>1.000000</td>\n",
       "      <td>1.000000</td>\n",
       "      <td>1.000000</td>\n",
       "      <td>0.996365</td>\n",
       "      <td>269.896665</td>\n",
       "    </tr>\n",
       "    <tr>\n",
       "      <th>Nearest Neighbors</th>\n",
       "      <td>1.000000</td>\n",
       "      <td>1.000000</td>\n",
       "      <td>1.000000</td>\n",
       "      <td>1.000000</td>\n",
       "      <td>0.941814</td>\n",
       "      <td>0.041038</td>\n",
       "    </tr>\n",
       "    <tr>\n",
       "      <th>Ridge</th>\n",
       "      <td>1.000000</td>\n",
       "      <td>1.000000</td>\n",
       "      <td>1.000000</td>\n",
       "      <td>1.000000</td>\n",
       "      <td>0.997273</td>\n",
       "      <td>7.001072</td>\n",
       "    </tr>\n",
       "    <tr>\n",
       "      <th>MultinomialNB</th>\n",
       "      <td>0.999933</td>\n",
       "      <td>0.999933</td>\n",
       "      <td>0.999933</td>\n",
       "      <td>0.999933</td>\n",
       "      <td>0.999394</td>\n",
       "      <td>0.128627</td>\n",
       "    </tr>\n",
       "    <tr>\n",
       "      <th>ComplementNB</th>\n",
       "      <td>0.999529</td>\n",
       "      <td>0.999530</td>\n",
       "      <td>0.999529</td>\n",
       "      <td>0.999529</td>\n",
       "      <td>0.997271</td>\n",
       "      <td>0.137176</td>\n",
       "    </tr>\n",
       "    <tr>\n",
       "      <th>SGDClassifier</th>\n",
       "      <td>0.994074</td>\n",
       "      <td>0.994113</td>\n",
       "      <td>0.994074</td>\n",
       "      <td>0.994070</td>\n",
       "      <td>0.985995</td>\n",
       "      <td>0.636659</td>\n",
       "    </tr>\n",
       "    <tr>\n",
       "      <th>Random Forest</th>\n",
       "      <td>0.101751</td>\n",
       "      <td>0.877874</td>\n",
       "      <td>0.101751</td>\n",
       "      <td>0.033879</td>\n",
       "      <td>0.021122</td>\n",
       "      <td>0.098602</td>\n",
       "    </tr>\n",
       "  </tbody>\n",
       "</table>\n",
       "</div>"
      ],
      "text/plain": [
       "                     Accuracy  Precision    Recall  F1 Train   F1 Test  \\\n",
       "Classifier                                                               \n",
       "Logistic Regression  1.000000   1.000000  1.000000  1.000000  0.996365   \n",
       "Nearest Neighbors    1.000000   1.000000  1.000000  1.000000  0.941814   \n",
       "Ridge                1.000000   1.000000  1.000000  1.000000  0.997273   \n",
       "MultinomialNB        0.999933   0.999933  0.999933  0.999933  0.999394   \n",
       "ComplementNB         0.999529   0.999530  0.999529  0.999529  0.997271   \n",
       "SGDClassifier        0.994074   0.994113  0.994074  0.994070  0.985995   \n",
       "Random Forest        0.101751   0.877874  0.101751  0.033879  0.021122   \n",
       "\n",
       "                     Train Time  \n",
       "Classifier                       \n",
       "Logistic Regression  269.896665  \n",
       "Nearest Neighbors      0.041038  \n",
       "Ridge                  7.001072  \n",
       "MultinomialNB          0.128627  \n",
       "ComplementNB           0.137176  \n",
       "SGDClassifier          0.636659  \n",
       "Random Forest          0.098602  "
      ]
     },
     "execution_count": 64,
     "metadata": {},
     "output_type": "execute_result"
    }
   ],
   "source": [
    "results.sort_values('F1 Train', ascending=False)"
   ]
  },
  {
   "cell_type": "markdown",
   "id": "5c57752e",
   "metadata": {},
   "source": [
    "### hypertuning Models"
   ]
  },
  {
   "cell_type": "code",
   "execution_count": 65,
   "id": "6e554372",
   "metadata": {},
   "outputs": [
    {
     "name": "stdout",
     "output_type": "stream",
     "text": [
      "Best parameters:\n",
      "{'alpha': 0.1}\n",
      "accuracy 0.9993939393939394\n",
      "              precision    recall  f1-score   support\n",
      "\n",
      "         afr       1.00      1.00      1.00       281\n",
      "         eng       1.00      1.00      1.00       297\n",
      "         nbl       1.00      1.00      1.00       327\n",
      "         nso       1.00      1.00      1.00       322\n",
      "         sot       1.00      1.00      1.00       307\n",
      "         ssw       1.00      1.00      1.00       286\n",
      "         tsn       1.00      1.00      1.00       297\n",
      "         tso       1.00      1.00      1.00       253\n",
      "         ven       1.00      1.00      1.00       322\n",
      "         xho       1.00      1.00      1.00       313\n",
      "         zul       1.00      1.00      1.00       295\n",
      "\n",
      "    accuracy                           1.00      3300\n",
      "   macro avg       1.00      1.00      1.00      3300\n",
      "weighted avg       1.00      1.00      1.00      3300\n",
      "\n"
     ]
    }
   ],
   "source": [
    "param_grid = {'alpha': [0.1, 1, 5,0.3,0.5, 10]}\n",
    "grid = GridSearchCV(MultinomialNB(), param_grid=param_grid,cv= 5,scoring = 'f1_weighted')\n",
    "grid.fit(X_train, y_train)\n",
    "y_pred = grid.predict(X_test)\n",
    "print(\"Best parameters:\")\n",
    "lr_params = grid.best_params_\n",
    "print(grid.best_params_)\n",
    "print('accuracy %s' % accuracy_score(y_test, y_pred))\n",
    "print(classification_report(y_test, y_pred))"
   ]
  },
  {
   "cell_type": "code",
   "execution_count": 68,
   "id": "d2e5a620",
   "metadata": {},
   "outputs": [
    {
     "data": {
      "text/plain": [
       "0.9972121212121212"
      ]
     },
     "execution_count": 68,
     "metadata": {},
     "output_type": "execute_result"
    }
   ],
   "source": [
    "from sklearn.ensemble import StackingClassifier\n",
    "x = df['text']\n",
    "y = df['lang_id']\n",
    "estimators = [('ComplementNB',ComplementNB(alpha = 0.1)),('Complement',ComplementNB(alpha = 0.1)) ]\n",
    "\n",
    "clf = StackingClassifier(estimators=estimators, final_estimator = RidgeClassifier(alpha = 0.1),cv =10 )\n",
    "\n",
    "from sklearn.model_selection import train_test_split\n",
    "cv = CountVectorizer(min_df = 5, max_df = 0.9,ngram_range =(1,5),analyzer = \"char\")\n",
    "X = cv.fit_transform(x)\n",
    "X_train, X_test, y_train, y_test = train_test_split(X, y, stratify=y, random_state=42)\n",
    "clf.fit(X_train, y_train)\n",
    "clf.score(X_test, y_test)"
   ]
  },
  {
   "cell_type": "markdown",
   "id": "aad3bcf5",
   "metadata": {},
   "source": [
    "#  Choosing the best model for submission file "
   ]
  },
  {
   "cell_type": "markdown",
   "id": "10e9049a",
   "metadata": {},
   "source": [
    "<a id=\"six\"></a>\n",
    "## 7. Model Documentation and Submission file\n",
    "<a class=\"anchor\" id=\"1.1\"></a>\n",
    "<a href=#cont>Back to Table of Contents</a>\n",
    "\n",
    "---\n",
    "    \n",
    "| ⚡ Description: Model documentation ⚡ |\n",
    "| :--------------------------- |\n",
    "| In this section it contains submission files and model saving |\n",
    "\n",
    "---"
   ]
  },
  {
   "cell_type": "markdown",
   "id": "a381d84a",
   "metadata": {},
   "source": []
  },
  {
   "cell_type": "code",
   "execution_count": null,
   "id": "76010de4",
   "metadata": {},
   "outputs": [],
   "source": [
    "submission_df = pd.DataFrame(test['index'])\n",
    "test1 = df_test['text']\n",
    "# vectorise test data\n",
    "test_vec = cv.transform(test1)\n",
    "# Predict the sentiment using the test data\n",
    "y_pred = clf.predict(test_vec)\n",
    "# Assign a new column of predictions\n",
    "submission_df['lang_id'] = y_pred\n",
    "# save the csv file and submit it. \n",
    "submission_df.to_csv('submission23.csv', index=False)\n"
   ]
  },
  {
   "cell_type": "markdown",
   "id": "ee1cb8c7",
   "metadata": {},
   "source": [
    "<a id=\"ref\"></a>\n",
    "## Reference Links\n",
    "<a href=#cont>Back to Table of Contents</a>"
   ]
  },
  {
   "cell_type": "code",
   "execution_count": null,
   "id": "6dfd9562",
   "metadata": {},
   "outputs": [],
   "source": []
  }
 ],
 "metadata": {
  "kernelspec": {
   "display_name": "Python 3.9.7 ('base')",
   "language": "python",
   "name": "python3"
  },
  "language_info": {
   "codemirror_mode": {
    "name": "ipython",
    "version": 3
   },
   "file_extension": ".py",
   "mimetype": "text/x-python",
   "name": "python",
   "nbconvert_exporter": "python",
   "pygments_lexer": "ipython3",
   "version": "3.9.7"
  },
  "vscode": {
   "interpreter": {
    "hash": "04455e36e172f6b292652d16f1e65dd2a7915d80c3850a404294de2c47ba9b33"
   }
  }
 },
 "nbformat": 4,
 "nbformat_minor": 5
}
